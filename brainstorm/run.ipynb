{
 "cells": [
  {
   "cell_type": "code",
   "execution_count": 166,
   "metadata": {},
   "outputs": [],
   "source": [
    "\n",
    "# mutable named tuple with defaults\n",
    "# upgraded named tuple data type\n",
    "# removes boilerplate further in a modern interpretation of pythons original mission\n",
    "\n",
    "from dataclasses import dataclass, asdict, field\n",
    "from datetime import datetime\n",
    "import math\n",
    "import numpy as np\n",
    "\n",
    "@dataclass\n",
    "class ServoState:\n",
    "    angle: float\n",
    "    min_angle: float = 0\n",
    "    max_angle: float = 2*math.pi \n",
    "    \n",
    "\n",
    "@dataclass\n",
    "class ToyState:\n",
    "    height: int = 0\n",
    "    theta: type(ServoState) = Servo(angle=math.pi) # horizontal angle\n",
    "    omega: type(ServoState) = Servo(angle=math.pi/4) # vertical angle\n",
    "\n"
   ]
  },
  {
   "cell_type": "code",
   "execution_count": 167,
   "metadata": {},
   "outputs": [
    {
     "data": {
      "text/plain": [
       "Toy(height=0, theta=Servo(angle=5, min_angle=0, max_angle=6.283185307179586, time_on=datetime.datetime(2021, 12, 14, 18, 50, 45, 684643)), omega=Servo(angle=0.7853981633974483, min_angle=0, max_angle=6.283185307179586, time_on=datetime.datetime(2021, 12, 14, 20, 11, 43, 969270)))"
      ]
     },
     "execution_count": 167,
     "metadata": {},
     "output_type": "execute_result"
    }
   ],
   "source": [
    "a = Toy()\n",
    "a"
   ]
  },
  {
   "cell_type": "code",
   "execution_count": 168,
   "metadata": {},
   "outputs": [
    {
     "data": {
      "text/plain": [
       "5"
      ]
     },
     "execution_count": 168,
     "metadata": {},
     "output_type": "execute_result"
    }
   ],
   "source": [
    "a.omega = math.pi/4\n",
    "a.theta.angle = 5\n",
    "a.theta.angle"
   ]
  },
  {
   "cell_type": "code",
   "execution_count": 169,
   "metadata": {},
   "outputs": [
    {
     "data": {
      "text/plain": [
       "{'height': 0,\n",
       " 'theta': {'angle': 5,\n",
       "  'history': [],\n",
       "  'min_angle': 0,\n",
       "  'max_angle': 6.283185307179586,\n",
       "  'time_on': datetime.datetime(2021, 12, 14, 18, 50, 45, 684643)},\n",
       " 'omega': 0.7853981633974483}"
      ]
     },
     "execution_count": 169,
     "metadata": {},
     "output_type": "execute_result"
    }
   ],
   "source": [
    "asdict(a)"
   ]
  },
  {
   "cell_type": "code",
   "execution_count": 170,
   "metadata": {},
   "outputs": [],
   "source": [
    "\n",
    "import uuid\n",
    "from typing import List, Tuple\n",
    "import time\n",
    "\n",
    "def human_readable_time():\n",
    "    _ = datetime.now()\n",
    "    return _.minute, _.second\n",
    "\n",
    "def make_id():\n",
    "    return str(uuid.uuid4())[:4]\n",
    "\n",
    "@dataclass(order=True)\n",
    "class Step:\n",
    "    uuid : str = field(default_factory=make_id)\n",
    "    time_start: Tuple[int, int] = field(default_factory=human_readable_now, hash=False)\n",
    "    time_capture: Tuple[int, int] = field(init=False, hash=False, compare=False)\n",
    "    time_feedforward: Tuple[int, int] = field(init=False, hash=False, compare=False)\n",
    "    time_end: Tuple[int, int] = field(init=False, hash=False, compare=False)\n",
    "\n",
    "@dataclass\n",
    "class Image:\n",
    "    features: np.ndarray = field(init=False, hash=False)\n",
    "    image: np.ndarray = field(init=False, compare=False, repr=False)\n",
    "    step: type(Step) = field(init=False, hash=False)\n",
    "    width: int = 640\n",
    "    height: int = 480\n",
    "\n",
    "def capture(image : Image):\n",
    "    image.step = Step()\n",
    "    image.step.time_capture = human_readable_now()\n",
    "    image.image = np.random.uniform(size=(640, 480, 3))\n",
    "    time.sleep(1) # Take image\n",
    "    image.step.time_feedforward = human_readable_now()\n",
    "    image.features = np.random.uniform(size=(1, 2))\n",
    "    time.sleep(1) # Feed forward step\n",
    "    image.step.time_end = human_readable_now()\n",
    "\n",
    "\n",
    "@dataclass\n",
    "class Angle:\n",
    "    radians: float"
   ]
  },
  {
   "cell_type": "code",
   "execution_count": 171,
   "metadata": {},
   "outputs": [
    {
     "data": {
      "text/plain": [
       "Image(features=array([[0.53059205, 0.31757075]]), step=Step(uuid='18c2', time_start=(12, 46), time_capture=(12, 46), time_feedforward=(12, 47), time_end=(12, 48)), width=640, height=480)"
      ]
     },
     "execution_count": 171,
     "metadata": {},
     "output_type": "execute_result"
    }
   ],
   "source": [
    "i = Image()\n",
    "capture(i)\n",
    "i"
   ]
  },
  {
   "cell_type": "code",
   "execution_count": 172,
   "metadata": {},
   "outputs": [
    {
     "data": {
      "text/plain": [
       "[Step(uuid='c54f', time_start=(12, 48), time_capture=(12, 48), time_feedforward=(12, 49), time_end=(12, 50)),\n",
       " Step(uuid='90fb', time_start=(12, 50), time_capture=(12, 50), time_feedforward=(12, 51), time_end=(12, 52)),\n",
       " Step(uuid='fb9f', time_start=(12, 52), time_capture=(12, 52), time_feedforward=(12, 53), time_end=(12, 54))]"
      ]
     },
     "execution_count": 172,
     "metadata": {},
     "output_type": "execute_result"
    }
   ],
   "source": [
    "numsteps = 3\n",
    "history = []\n",
    "for i in range(numsteps):\n",
    "    image = Image()\n",
    "    capture(image)\n",
    "    history.append(image.step)\n",
    "history"
   ]
  },
  {
   "cell_type": "code",
   "execution_count": 173,
   "metadata": {},
   "outputs": [
    {
     "data": {
      "text/plain": [
       "[Step(uuid='c54f', time_start=(12, 48), time_capture=(12, 48), time_feedforward=(12, 49), time_end=(12, 50)),\n",
       " Step(uuid='90fb', time_start=(12, 50), time_capture=(12, 50), time_feedforward=(12, 51), time_end=(12, 52)),\n",
       " Step(uuid='fb9f', time_start=(12, 52), time_capture=(12, 52), time_feedforward=(12, 53), time_end=(12, 54))]"
      ]
     },
     "execution_count": 173,
     "metadata": {},
     "output_type": "execute_result"
    }
   ],
   "source": [
    "sorted(history)"
   ]
  },
  {
   "cell_type": "code",
   "execution_count": 174,
   "metadata": {},
   "outputs": [],
   "source": [
    "history += history"
   ]
  },
  {
   "cell_type": "code",
   "execution_count": 175,
   "metadata": {},
   "outputs": [
    {
     "data": {
      "text/plain": [
       "[Step(uuid='c54f', time_start=(12, 48), time_capture=(12, 48), time_feedforward=(12, 49), time_end=(12, 50)),\n",
       " Step(uuid='c54f', time_start=(12, 48), time_capture=(12, 48), time_feedforward=(12, 49), time_end=(12, 50)),\n",
       " Step(uuid='90fb', time_start=(12, 50), time_capture=(12, 50), time_feedforward=(12, 51), time_end=(12, 52)),\n",
       " Step(uuid='90fb', time_start=(12, 50), time_capture=(12, 50), time_feedforward=(12, 51), time_end=(12, 52)),\n",
       " Step(uuid='fb9f', time_start=(12, 52), time_capture=(12, 52), time_feedforward=(12, 53), time_end=(12, 54)),\n",
       " Step(uuid='fb9f', time_start=(12, 52), time_capture=(12, 52), time_feedforward=(12, 53), time_end=(12, 54))]"
      ]
     },
     "execution_count": 175,
     "metadata": {},
     "output_type": "execute_result"
    }
   ],
   "source": [
    "sorted(history)"
   ]
  },
  {
   "cell_type": "code",
   "execution_count": null,
   "metadata": {},
   "outputs": [],
   "source": []
  }
 ],
 "metadata": {
  "interpreter": {
   "hash": "31f2aee4e71d21fbe5cf8b01ff0e069b9275f58929596ceb00d14d90e3e16cd6"
  },
  "kernelspec": {
   "display_name": "Python 3.8.10 64-bit",
   "name": "python3"
  },
  "language_info": {
   "codemirror_mode": {
    "name": "ipython",
    "version": 3
   },
   "file_extension": ".py",
   "mimetype": "text/x-python",
   "name": "python",
   "nbconvert_exporter": "python",
   "pygments_lexer": "ipython3",
   "version": "3.8.10"
  },
  "orig_nbformat": 4
 },
 "nbformat": 4,
 "nbformat_minor": 2
}
